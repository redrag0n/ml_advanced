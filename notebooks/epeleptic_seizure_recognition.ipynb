{
 "cells": [
  {
   "cell_type": "code",
   "execution_count": 187,
   "id": "indirect-physics",
   "metadata": {},
   "outputs": [],
   "source": [
    "import sys\n",
    "\n",
    "import pandas as pd\n",
    "import numpy as np\n",
    "import time\n",
    "from tqdm.autonotebook import tqdm\n",
    "\n",
    "import seaborn as sns\n",
    "import matplotlib.pyplot as plt\n",
    "\n",
    "from collections import defaultdict, Counter\n",
    "\n",
    "import scipy\n",
    "from scipy.signal import welch\n",
    "from scipy.fftpack import fft\n",
    "from scipy import signal\n",
    "from random import choice\n",
    "\n",
    "from sklearn.model_selection import train_test_split\n",
    "from sklearn.ensemble import RandomForestClassifier\n",
    "from sklearn.metrics import roc_auc_score, f1_score\n",
    "import matplotlib.pyplot as plt\n",
    "\n",
    "%matplotlib inline\n",
    "\n",
    "import warnings\n",
    "warnings.filterwarnings('ignore')"
   ]
  },
  {
   "cell_type": "code",
   "execution_count": 7,
   "id": "cloudy-retirement",
   "metadata": {},
   "outputs": [
    {
     "data": {
      "text/html": [
       "<div>\n",
       "<style scoped>\n",
       "    .dataframe tbody tr th:only-of-type {\n",
       "        vertical-align: middle;\n",
       "    }\n",
       "\n",
       "    .dataframe tbody tr th {\n",
       "        vertical-align: top;\n",
       "    }\n",
       "\n",
       "    .dataframe thead th {\n",
       "        text-align: right;\n",
       "    }\n",
       "</style>\n",
       "<table border=\"1\" class=\"dataframe\">\n",
       "  <thead>\n",
       "    <tr style=\"text-align: right;\">\n",
       "      <th></th>\n",
       "      <th>Unnamed</th>\n",
       "      <th>X1</th>\n",
       "      <th>X2</th>\n",
       "      <th>X3</th>\n",
       "      <th>X4</th>\n",
       "      <th>X5</th>\n",
       "      <th>X6</th>\n",
       "      <th>X7</th>\n",
       "      <th>X8</th>\n",
       "      <th>X9</th>\n",
       "      <th>...</th>\n",
       "      <th>X170</th>\n",
       "      <th>X171</th>\n",
       "      <th>X172</th>\n",
       "      <th>X173</th>\n",
       "      <th>X174</th>\n",
       "      <th>X175</th>\n",
       "      <th>X176</th>\n",
       "      <th>X177</th>\n",
       "      <th>X178</th>\n",
       "      <th>y</th>\n",
       "    </tr>\n",
       "  </thead>\n",
       "  <tbody>\n",
       "    <tr>\n",
       "      <th>0</th>\n",
       "      <td>X21.V1.791</td>\n",
       "      <td>135</td>\n",
       "      <td>190</td>\n",
       "      <td>229</td>\n",
       "      <td>223</td>\n",
       "      <td>192</td>\n",
       "      <td>125</td>\n",
       "      <td>55</td>\n",
       "      <td>-9</td>\n",
       "      <td>-33</td>\n",
       "      <td>...</td>\n",
       "      <td>-17</td>\n",
       "      <td>-15</td>\n",
       "      <td>-31</td>\n",
       "      <td>-77</td>\n",
       "      <td>-103</td>\n",
       "      <td>-127</td>\n",
       "      <td>-116</td>\n",
       "      <td>-83</td>\n",
       "      <td>-51</td>\n",
       "      <td>4</td>\n",
       "    </tr>\n",
       "    <tr>\n",
       "      <th>1</th>\n",
       "      <td>X15.V1.924</td>\n",
       "      <td>386</td>\n",
       "      <td>382</td>\n",
       "      <td>356</td>\n",
       "      <td>331</td>\n",
       "      <td>320</td>\n",
       "      <td>315</td>\n",
       "      <td>307</td>\n",
       "      <td>272</td>\n",
       "      <td>244</td>\n",
       "      <td>...</td>\n",
       "      <td>164</td>\n",
       "      <td>150</td>\n",
       "      <td>146</td>\n",
       "      <td>152</td>\n",
       "      <td>157</td>\n",
       "      <td>156</td>\n",
       "      <td>154</td>\n",
       "      <td>143</td>\n",
       "      <td>129</td>\n",
       "      <td>1</td>\n",
       "    </tr>\n",
       "    <tr>\n",
       "      <th>2</th>\n",
       "      <td>X8.V1.1</td>\n",
       "      <td>-32</td>\n",
       "      <td>-39</td>\n",
       "      <td>-47</td>\n",
       "      <td>-37</td>\n",
       "      <td>-32</td>\n",
       "      <td>-36</td>\n",
       "      <td>-57</td>\n",
       "      <td>-73</td>\n",
       "      <td>-85</td>\n",
       "      <td>...</td>\n",
       "      <td>57</td>\n",
       "      <td>64</td>\n",
       "      <td>48</td>\n",
       "      <td>19</td>\n",
       "      <td>-12</td>\n",
       "      <td>-30</td>\n",
       "      <td>-35</td>\n",
       "      <td>-35</td>\n",
       "      <td>-36</td>\n",
       "      <td>5</td>\n",
       "    </tr>\n",
       "    <tr>\n",
       "      <th>3</th>\n",
       "      <td>X16.V1.60</td>\n",
       "      <td>-105</td>\n",
       "      <td>-101</td>\n",
       "      <td>-96</td>\n",
       "      <td>-92</td>\n",
       "      <td>-89</td>\n",
       "      <td>-95</td>\n",
       "      <td>-102</td>\n",
       "      <td>-100</td>\n",
       "      <td>-87</td>\n",
       "      <td>...</td>\n",
       "      <td>-82</td>\n",
       "      <td>-81</td>\n",
       "      <td>-80</td>\n",
       "      <td>-77</td>\n",
       "      <td>-85</td>\n",
       "      <td>-77</td>\n",
       "      <td>-72</td>\n",
       "      <td>-69</td>\n",
       "      <td>-65</td>\n",
       "      <td>5</td>\n",
       "    </tr>\n",
       "    <tr>\n",
       "      <th>4</th>\n",
       "      <td>X20.V1.54</td>\n",
       "      <td>-9</td>\n",
       "      <td>-65</td>\n",
       "      <td>-98</td>\n",
       "      <td>-102</td>\n",
       "      <td>-78</td>\n",
       "      <td>-48</td>\n",
       "      <td>-16</td>\n",
       "      <td>0</td>\n",
       "      <td>-21</td>\n",
       "      <td>...</td>\n",
       "      <td>4</td>\n",
       "      <td>2</td>\n",
       "      <td>-12</td>\n",
       "      <td>-32</td>\n",
       "      <td>-41</td>\n",
       "      <td>-65</td>\n",
       "      <td>-83</td>\n",
       "      <td>-89</td>\n",
       "      <td>-73</td>\n",
       "      <td>5</td>\n",
       "    </tr>\n",
       "  </tbody>\n",
       "</table>\n",
       "<p>5 rows × 180 columns</p>\n",
       "</div>"
      ],
      "text/plain": [
       "      Unnamed   X1   X2   X3   X4   X5   X6   X7   X8   X9  ...  X170  X171  \\\n",
       "0  X21.V1.791  135  190  229  223  192  125   55   -9  -33  ...   -17   -15   \n",
       "1  X15.V1.924  386  382  356  331  320  315  307  272  244  ...   164   150   \n",
       "2     X8.V1.1  -32  -39  -47  -37  -32  -36  -57  -73  -85  ...    57    64   \n",
       "3   X16.V1.60 -105 -101  -96  -92  -89  -95 -102 -100  -87  ...   -82   -81   \n",
       "4   X20.V1.54   -9  -65  -98 -102  -78  -48  -16    0  -21  ...     4     2   \n",
       "\n",
       "   X172  X173  X174  X175  X176  X177  X178  y  \n",
       "0   -31   -77  -103  -127  -116   -83   -51  4  \n",
       "1   146   152   157   156   154   143   129  1  \n",
       "2    48    19   -12   -30   -35   -35   -36  5  \n",
       "3   -80   -77   -85   -77   -72   -69   -65  5  \n",
       "4   -12   -32   -41   -65   -83   -89   -73  5  \n",
       "\n",
       "[5 rows x 180 columns]"
      ]
     },
     "execution_count": 7,
     "metadata": {},
     "output_type": "execute_result"
    }
   ],
   "source": [
    "data = pd.read_csv('../data/EpilepticSeizureRecognition.csv')\n",
    "data.head()"
   ]
  },
  {
   "cell_type": "code",
   "execution_count": 112,
   "id": "agricultural-mechanics",
   "metadata": {},
   "outputs": [],
   "source": [
    "N = 178  # длина сигнала\n",
    "t = 1  # длина нашего сигнала в секундах\n",
    "T = t / N # период сигнала"
   ]
  },
  {
   "cell_type": "markdown",
   "id": "chicken-doctrine",
   "metadata": {},
   "source": [
    "# EDA"
   ]
  },
  {
   "cell_type": "code",
   "execution_count": 214,
   "id": "conceptual-revelation",
   "metadata": {},
   "outputs": [
    {
     "data": {
      "image/png": "[encoded data removed]",
      "text/plain": [
       "<Figure size 864x576 with 6 Axes>"
      ]
     },
     "metadata": {
      "needs_background": "light"
     },
     "output_type": "display_data"
    }
   ],
   "source": [
    "feature_cols = [col for col in data.columns if col.startswith('X')]\n",
    "\n",
    "fig, axarr = plt.subplots(nrows=2, ncols=3, figsize=(12,8))\n",
    "fig.suptitle('Examples')\n",
    "\n",
    "for row in range(2):\n",
    "    for col in range(3):\n",
    "        if row == 0:\n",
    "            axarr[row][col].set_title('No epeleptic seizure')\n",
    "            signal = data[feature_cols].loc[choice((data['y'] != 1).index)]\n",
    "            color = 'purple'\n",
    "        else:\n",
    "            axarr[row][col].set_title('Epeleptic seizure')\n",
    "            signal = data[feature_cols].loc[choice((data['y'] == 1).index)]\n",
    "            color = 'green'\n",
    "        axarr[row, col].plot(range(len(feature_cols)), signal.values, color=color)\n",
    "\n",
    "plt.show()"
   ]
  },
  {
   "cell_type": "code",
   "execution_count": 217,
   "id": "anonymous-tribute",
   "metadata": {},
   "outputs": [
    {
     "data": {
      "image/png": "[encoded data removed]",
      "text/plain": [
       "<Figure size 864x576 with 6 Axes>"
      ]
     },
     "metadata": {
      "needs_background": "light"
     },
     "output_type": "display_data"
    }
   ],
   "source": [
    "def get_fft_values(y_values, T, N, f_s):\n",
    "    f_values = np.linspace(0.0, 1.0/(2.0*T), N//2)\n",
    "    fft_values_ = fft(y_values)\n",
    "    fft_values = 2.0/N * np.abs(fft_values_[0:N//2])\n",
    "    return f_values, fft_values\n",
    "\n",
    "fig, axarr = plt.subplots(nrows=2, ncols=3, figsize=(12,8))\n",
    "fig.suptitle('FFT Examples')\n",
    "\n",
    "for row in range(2):\n",
    "    for col in range(3):\n",
    "        if row == 0:\n",
    "            axarr[row][col].set_title('No epeleptic seizure')\n",
    "            signal = data[feature_cols].loc[choice((data['y'] != 1).index)]\n",
    "            f_values, fft_values = get_fft_values(signal, T, N, N)\n",
    "            color = 'purple'\n",
    "        else:\n",
    "            axarr[row][col].set_title('Epeleptic seizure')\n",
    "            signal = data[feature_cols].loc[choice((data['y'] == 1).index)]\n",
    "            f_values, fft_values = get_fft_values(signal, T, N, N)\n",
    "            color = 'green'\n",
    "        axarr[row, col].plot(f_values, fft_values, color=color)\n",
    "\n",
    "plt.show()"
   ]
  },
  {
   "cell_type": "markdown",
   "id": "interpreted-brisbane",
   "metadata": {},
   "source": [
    "# ML Models"
   ]
  },
  {
   "cell_type": "code",
   "execution_count": 54,
   "id": "reasonable-vinyl",
   "metadata": {},
   "outputs": [],
   "source": [
    "def choose_threshold(y_true, pred_proba, metric, thresholds=None):\n",
    "    if thresholds is None:\n",
    "        thresholds = np.arange(0, 1, 0.05)\n",
    "    metric_values = [metric(y_true, pred_proba > thr) for thr in thresholds]\n",
    "    best_thr = thresholds[np.argmax(metric_values)]\n",
    "    return best_thr"
   ]
  },
  {
   "cell_type": "code",
   "execution_count": 15,
   "id": "broadband-purpose",
   "metadata": {},
   "outputs": [],
   "source": [
    "data['y_bin'] = (data['y'] == 1).astype(int)  # 1 - означает эпелептический приступ"
   ]
  },
  {
   "cell_type": "code",
   "execution_count": 24,
   "id": "damaged-dollar",
   "metadata": {},
   "outputs": [
    {
     "data": {
      "text/plain": [
       "(9200, 2300)"
      ]
     },
     "execution_count": 24,
     "metadata": {},
     "output_type": "execute_result"
    }
   ],
   "source": [
    "X_train, X_test, y_train, y_test = train_test_split(data[[col for col in data.columns if col.startswith('X')]],\n",
    "                                                    data['y_bin'], stratify=data['y_bin'], test_size=0.2)\n",
    "y_train, y_test = y_train.values, y_test.values\n",
    "len(y_train), len(y_test)"
   ]
  },
  {
   "cell_type": "code",
   "execution_count": 123,
   "id": "yellow-capitol",
   "metadata": {},
   "outputs": [],
   "source": [
    "roc_auc_dict = dict()\n",
    "feature_count_dict = dict()"
   ]
  },
  {
   "cell_type": "markdown",
   "id": "vulnerable-rocket",
   "metadata": {},
   "source": [
    "## Base features"
   ]
  },
  {
   "cell_type": "code",
   "execution_count": 169,
   "id": "apart-resolution",
   "metadata": {},
   "outputs": [],
   "source": [
    "clf = RandomForestClassifier(n_estimators=100)\n",
    "clf.fit(X_train, y_train)\n",
    "threshold = choose_threshold(y_train, clf.predict_proba(X_train)[:, 1], f1_score)"
   ]
  },
  {
   "cell_type": "code",
   "execution_count": 170,
   "id": "cognitive-mounting",
   "metadata": {},
   "outputs": [
    {
     "name": "stdout",
     "output_type": "stream",
     "text": [
      "0.9378292939936775\n"
     ]
    }
   ],
   "source": [
    "y_pred = clf.predict_proba(X_test)[:, 1] > threshold\n",
    "score = f1_score(y_test, y_pred)\n",
    "roc_auc_dict['base_random_forest'] = score\n",
    "print(score)"
   ]
  },
  {
   "cell_type": "code",
   "execution_count": 124,
   "id": "novel-semester",
   "metadata": {},
   "outputs": [],
   "source": [
    "feature_count_dict['base_random_forest'] = X_train.shape[1]"
   ]
  },
  {
   "cell_type": "markdown",
   "id": "vulnerable-university",
   "metadata": {},
   "source": [
    "## FFT"
   ]
  },
  {
   "cell_type": "code",
   "execution_count": 117,
   "id": "presidential-fiction",
   "metadata": {},
   "outputs": [],
   "source": [
    "import numpy as np\n",
    "\n",
    "# Copied From http://nbviewer.ipython.org/github/demotu/BMC/blob/master/notebooks/DetectPeaks.ipynb\n",
    "# Thank you Marcos Duarte\n",
    "\n",
    "def detect_peaks(x, mph=None, mpd=1, threshold=0, edge='rising',\n",
    "                 kpsh=False, valley=False, show=False, ax=None):\n",
    "\n",
    "    \"\"\"Detect peaks in data based on their amplitude and other features.\n",
    "    Parameters\n",
    "    ----------\n",
    "    x : 1D array_like\n",
    "        data.\n",
    "    mph : {None, number}, optional (default = None)\n",
    "        detect peaks that are greater than minimum peak height.\n",
    "    mpd : positive integer, optional (default = 1)\n",
    "        detect peaks that are at least separated by minimum peak distance (in\n",
    "        number of data).\n",
    "    threshold : positive number, optional (default = 0)\n",
    "        detect peaks (valleys) that are greater (smaller) than `threshold`\n",
    "        in relation to their immediate neighbors.\n",
    "    edge : {None, 'rising', 'falling', 'both'}, optional (default = 'rising')\n",
    "        for a flat peak, keep only the rising edge ('rising'), only the\n",
    "        falling edge ('falling'), both edges ('both'), or don't detect a\n",
    "        flat peak (None).\n",
    "    kpsh : bool, optional (default = False)\n",
    "        keep peaks with same height even if they are closer than `mpd`.\n",
    "    valley : bool, optional (default = False)\n",
    "        if True (1), detect valleys (local minima) instead of peaks.\n",
    "    show : bool, optional (default = False)\n",
    "        if True (1), plot data in matplotlib figure.\n",
    "    ax : a matplotlib.axes.Axes instance, optional (default = None).\n",
    "    Returns\n",
    "    -------\n",
    "    ind : 1D array_like\n",
    "        indeces of the peaks in `x`.\n",
    "    Notes\n",
    "    -----\n",
    "    The detection of valleys instead of peaks is performed internally by simply\n",
    "    negating the data: `ind_valleys = detect_peaks(-x)`\n",
    "    \n",
    "    The function can handle NaN's \n",
    "    See this IPython Notebook [1]_.\n",
    "    References\n",
    "    ----------\n",
    "    .. [1] http://nbviewer.ipython.org/github/demotu/BMC/blob/master/notebooks/DetectPeaks.ipynb\n",
    "    Examples\n",
    "    --------\n",
    "    >>> from detect_peaks import detect_peaks\n",
    "    >>> x = np.random.randn(100)\n",
    "    >>> x[60:81] = np.nan\n",
    "    >>> # detect all peaks and plot data\n",
    "    >>> ind = detect_peaks(x, show=True)\n",
    "    >>> print(ind)\n",
    "    >>> x = np.sin(2*np.pi*5*np.linspace(0, 1, 200)) + np.random.randn(200)/5\n",
    "    >>> # set minimum peak height = 0 and minimum peak distance = 20\n",
    "    >>> detect_peaks(x, mph=0, mpd=20, show=True)\n",
    "    >>> x = [0, 1, 0, 2, 0, 3, 0, 2, 0, 1, 0]\n",
    "    >>> # set minimum peak distance = 2\n",
    "    >>> detect_peaks(x, mpd=2, show=True)\n",
    "    >>> x = np.sin(2*np.pi*5*np.linspace(0, 1, 200)) + np.random.randn(200)/5\n",
    "    >>> # detection of valleys instead of peaks\n",
    "    >>> detect_peaks(x, mph=0, mpd=20, valley=True, show=True)\n",
    "    >>> x = [0, 1, 1, 0, 1, 1, 0]\n",
    "    >>> # detect both edges\n",
    "    >>> detect_peaks(x, edge='both', show=True)\n",
    "    >>> x = [-2, 1, -2, 2, 1, 1, 3, 0]\n",
    "    >>> # set threshold = 2\n",
    "    >>> detect_peaks(x, threshold = 2, show=True)\n",
    "    \"\"\"\n",
    "\n",
    "    x = np.atleast_1d(x).astype('float64')\n",
    "    if x.size < 3:\n",
    "        return np.array([], dtype=int)\n",
    "    if valley:\n",
    "        x = -x\n",
    "    # find indices of all peaks\n",
    "    dx = x[1:] - x[:-1]\n",
    "    # handle NaN's\n",
    "    indnan = np.where(np.isnan(x))[0]\n",
    "    if indnan.size:\n",
    "        x[indnan] = np.inf\n",
    "        dx[np.where(np.isnan(dx))[0]] = np.inf\n",
    "    ine, ire, ife = np.array([[], [], []], dtype=int)\n",
    "    if not edge:\n",
    "        ine = np.where((np.hstack((dx, 0)) < 0) & (np.hstack((0, dx)) > 0))[0]\n",
    "    else:\n",
    "        if edge.lower() in ['rising', 'both']:\n",
    "            ire = np.where((np.hstack((dx, 0)) <= 0) & (np.hstack((0, dx)) > 0))[0]\n",
    "        if edge.lower() in ['falling', 'both']:\n",
    "            ife = np.where((np.hstack((dx, 0)) < 0) & (np.hstack((0, dx)) >= 0))[0]\n",
    "    ind = np.unique(np.hstack((ine, ire, ife)))\n",
    "    # handle NaN's\n",
    "    if ind.size and indnan.size:\n",
    "        # NaN's and values close to NaN's cannot be peaks\n",
    "        ind = ind[np.in1d(ind, np.unique(np.hstack((indnan, indnan-1, indnan+1))), invert=True)]\n",
    "    # first and last values of x cannot be peaks\n",
    "    if ind.size and ind[0] == 0:\n",
    "        ind = ind[1:]\n",
    "    if ind.size and ind[-1] == x.size-1:\n",
    "        ind = ind[:-1]\n",
    "    # remove peaks < minimum peak height\n",
    "    if ind.size and mph is not None:\n",
    "        ind = ind[x[ind] >= mph]\n",
    "    # remove peaks - neighbors < threshold\n",
    "    if ind.size and threshold > 0:\n",
    "        dx = np.min(np.vstack([x[ind]-x[ind-1], x[ind]-x[ind+1]]), axis=0)\n",
    "        ind = np.delete(ind, np.where(dx < threshold)[0])\n",
    "    # detect small peaks closer than minimum peak distance\n",
    "    if ind.size and mpd > 1:\n",
    "        ind = ind[np.argsort(x[ind])][::-1]  # sort ind by peak height\n",
    "        idel = np.zeros(ind.size, dtype=bool)\n",
    "        for i in range(ind.size):\n",
    "            if not idel[i]:\n",
    "                # keep peaks with the same height if kpsh is True\n",
    "                idel = idel | (ind >= ind[i] - mpd) & (ind <= ind[i] + mpd) \\\n",
    "                    & (x[ind[i]] > x[ind] if kpsh else True)\n",
    "                idel[i] = 0  # Keep current peak\n",
    "        # remove the small peaks and sort back the indices by their occurrence\n",
    "        ind = np.sort(ind[~idel])\n",
    "\n",
    "    if show:\n",
    "        if indnan.size:\n",
    "            x[indnan] = np.nan\n",
    "        if valley:\n",
    "            x = -x\n",
    "        _plot(x, mph, mpd, threshold, edge, valley, ax, ind)\n",
    "\n",
    "    return ind\n",
    "\n",
    "def get_values(y_values, T, N, f_s):\n",
    "    y_values = y_values\n",
    "    x_values = np.array([sample_rate * kk for kk in range(0,len(y_values))])\n",
    "    return x_values, y_values\n",
    "\n",
    "def get_fft_values(y_values, T, N, f_s):\n",
    "    f_values = np.linspace(0.0, 1.0/(2.0*T), N//2)\n",
    "    fft_values_ = fft(y_values)\n",
    "    fft_values = 2.0/N * np.abs(fft_values_[0:N//2])\n",
    "    return f_values, fft_values\n",
    "\n",
    "def get_psd_values(y_values, T, N, f_s):\n",
    "    f_values, psd_values = welch(y_values, fs=f_s)\n",
    "    return f_values, psd_values\n",
    "\n",
    "def autocorr(x):\n",
    "    result = np.correlate(x, x, mode='full')\n",
    "    return result[len(result)//2:]\n",
    " \n",
    "def get_autocorr_values(y_values, T, N, f_s):\n",
    "    autocorr_values = autocorr(y_values)\n",
    "    x_values = np.array([T * jj for jj in range(0, N)])\n",
    "    return x_values, autocorr_values\n",
    "\n",
    "def get_first_n_peaks(x,y,no_peaks=5):\n",
    "    x_, y_ = list(x), list(y)\n",
    "    if len(x_) >= no_peaks:\n",
    "        return x_[:no_peaks], y_[:no_peaks]\n",
    "    else:\n",
    "        missing_no_peaks = no_peaks-len(x_)\n",
    "        return x_ + [0]*missing_no_peaks, y_ + [0]*missing_no_peaks\n",
    "    \n",
    "def get_features(x_values, y_values, mph):\n",
    "    indices_peaks = detect_peaks(y_values, mph=mph)\n",
    "    peaks_x, peaks_y = get_first_n_peaks(x_values[indices_peaks], y_values[indices_peaks])\n",
    "    return peaks_x + peaks_y\n",
    "\n",
    "def extract_features(dataset, T, N, f_s, denominator):\n",
    "    percentile = 5\n",
    "    list_of_features = []\n",
    "    for signal_no in tqdm(range(0, len(dataset)), leave=False):\n",
    "        features = []\n",
    "        signal = dataset.iloc[signal_no]\n",
    "\n",
    "        signal_min = np.nanpercentile(signal, percentile)\n",
    "        signal_max = np.nanpercentile(signal, 100-percentile)\n",
    "        #ijk = (100 - 2*percentile)/10\n",
    "        mph = signal_min + (signal_max - signal_min)/denominator\n",
    "\n",
    "        features += get_features(*get_psd_values(signal, T, N, f_s), mph)\n",
    "        features += get_features(*get_fft_values(signal, T, N, f_s), mph)\n",
    "        features += get_features(*get_autocorr_values(signal, T, N, f_s), mph)\n",
    "        list_of_features.append(features)\n",
    "    return np.array(list_of_features)"
   ]
  },
  {
   "cell_type": "code",
   "execution_count": 125,
   "id": "pending-bonus",
   "metadata": {},
   "outputs": [
    {
     "data": {
      "application/vnd.jupyter.widget-view+json": {
       "model_id": "",
       "version_major": 2,
       "version_minor": 0
      },
      "text/plain": [
       "  0%|          | 0/9200 [00:00<?, ?it/s]"
      ]
     },
     "metadata": {},
     "output_type": "display_data"
    },
    {
     "data": {
      "application/vnd.jupyter.widget-view+json": {
       "model_id": "",
       "version_major": 2,
       "version_minor": 0
      },
      "text/plain": [
       "  0%|          | 0/2300 [00:00<?, ?it/s]"
      ]
     },
     "metadata": {},
     "output_type": "display_data"
    }
   ],
   "source": [
    "denominator = 10\n",
    "X_train_fft = extract_features(X_train, T, N, N, denominator)\n",
    "X_test_fft = extract_features(X_test, T, N, N, denominator)\n",
    "feature_count_dict['fft_random_forest'] = X_train_fft.shape[1]"
   ]
  },
  {
   "cell_type": "code",
   "execution_count": 126,
   "id": "swiss-implement",
   "metadata": {},
   "outputs": [],
   "source": [
    "clf = RandomForestClassifier(n_estimators=100)\n",
    "clf.fit(X_train_fft, y_train)\n",
    "threshold = choose_threshold(y_train, clf.predict_proba(X_train_fft)[:, 1], f1_score)"
   ]
  },
  {
   "cell_type": "code",
   "execution_count": 127,
   "id": "suspended-hollywood",
   "metadata": {},
   "outputs": [
    {
     "name": "stdout",
     "output_type": "stream",
     "text": [
      "0.9506037321624589\n"
     ]
    }
   ],
   "source": [
    "y_pred = clf.predict_proba(X_test_fft)[:, 1] > threshold\n",
    "score = f1_score(y_test, y_pred)\n",
    "roc_auc_dict['fft_random_forest'] = score\n",
    "print(score)"
   ]
  },
  {
   "cell_type": "markdown",
   "id": "tired-edition",
   "metadata": {},
   "source": [
    "## Wavelet"
   ]
  },
  {
   "cell_type": "code",
   "execution_count": 134,
   "id": "encouraging-validation",
   "metadata": {},
   "outputs": [],
   "source": [
    "import pywt"
   ]
  },
  {
   "cell_type": "code",
   "execution_count": 148,
   "id": "false-indonesian",
   "metadata": {},
   "outputs": [],
   "source": [
    "def calculate_entropy(list_values):\n",
    "    counter_values = Counter(list_values).most_common()\n",
    "    probabilities = [elem[1]/len(list_values) for elem in counter_values]\n",
    "    entropy=scipy.stats.entropy(probabilities)\n",
    "    return entropy\n",
    "\n",
    "def calculate_statistics(list_values):\n",
    "    n5 = np.nanpercentile(list_values, 5)\n",
    "    n25 = np.nanpercentile(list_values, 25)\n",
    "    n75 = np.nanpercentile(list_values, 75)\n",
    "    n95 = np.nanpercentile(list_values, 95)\n",
    "    median = np.nanpercentile(list_values, 50)\n",
    "    mean = np.nanmean(list_values)\n",
    "    std = np.nanstd(list_values)\n",
    "    var = np.nanvar(list_values)\n",
    "    rms = np.nanmean(np.sqrt(list_values**2))\n",
    "    return [n5, n25, n75, n95, median, mean, std, var, rms]\n",
    "\n",
    "def calculate_crossings(list_values):\n",
    "    zero_crossing_indices = np.nonzero(np.diff(np.array(list_values) > 0))[0]\n",
    "    no_zero_crossings = len(zero_crossing_indices)\n",
    "    mean_crossing_indices = np.nonzero(\n",
    "        np.diff(np.array(list_values) > np.nanmean(list_values)))[0]\n",
    "    no_mean_crossings = len(mean_crossing_indices)\n",
    "    return [no_zero_crossings, no_mean_crossings]\n",
    "\n",
    "def get_features_w(list_values):\n",
    "    entropy = calculate_entropy(list_values)\n",
    "    crossings = calculate_crossings(list_values)\n",
    "    statistics = calculate_statistics(list_values)\n",
    "    return [entropy] + crossings + statistics\n",
    "\n",
    "def get_uci_har_features(dataset, waveletname):\n",
    "    uci_har_features = []\n",
    "    for signal_no in tqdm(range(0, len(dataset)), leave=False):\n",
    "        features = []\n",
    "        signal = dataset.iloc[signal_no]\n",
    "        list_coeff = pywt.wavedec(signal, waveletname)\n",
    "        for coeff in list_coeff:\n",
    "            features += get_features_w(coeff)\n",
    "        uci_har_features.append(features)\n",
    "    X = np.array(uci_har_features)\n",
    "    return X"
   ]
  },
  {
   "cell_type": "code",
   "execution_count": 145,
   "id": "searching-census",
   "metadata": {},
   "outputs": [
    {
     "data": {
      "application/vnd.jupyter.widget-view+json": {
       "model_id": "",
       "version_major": 2,
       "version_minor": 0
      },
      "text/plain": [
       "  0%|          | 0/9200 [00:00<?, ?it/s]"
      ]
     },
     "metadata": {},
     "output_type": "display_data"
    },
    {
     "data": {
      "application/vnd.jupyter.widget-view+json": {
       "model_id": "",
       "version_major": 2,
       "version_minor": 0
      },
      "text/plain": [
       "  0%|          | 0/2300 [00:00<?, ?it/s]"
      ]
     },
     "metadata": {},
     "output_type": "display_data"
    }
   ],
   "source": [
    "waveletname = 'rbio3.1'\n",
    "X_train_wavelet = get_uci_har_features(X_train, waveletname)\n",
    "X_test_wavelet = get_uci_har_features(X_test, waveletname)\n",
    "feature_count_dict['wavelet_random_forest'] = X_train.shape[1]"
   ]
  },
  {
   "cell_type": "code",
   "execution_count": 146,
   "id": "welsh-sociology",
   "metadata": {},
   "outputs": [],
   "source": [
    "clf = RandomForestClassifier(n_estimators=100)\n",
    "clf.fit(X_train_wavelet, y_train)\n",
    "threshold = choose_threshold(y_train, clf.predict_proba(X_train_wavelet)[:, 1], f1_score)"
   ]
  },
  {
   "cell_type": "code",
   "execution_count": 147,
   "id": "serious-istanbul",
   "metadata": {},
   "outputs": [
    {
     "name": "stdout",
     "output_type": "stream",
     "text": [
      "0.961038961038961\n"
     ]
    }
   ],
   "source": [
    "y_pred = clf.predict_proba(X_test_wavelet)[:, 1] > threshold\n",
    "score = f1_score(y_test, y_pred)\n",
    "roc_auc_dict['wavelet_random_forest'] = score\n",
    "print(score)"
   ]
  },
  {
   "cell_type": "markdown",
   "id": "uniform-dryer",
   "metadata": {},
   "source": [
    "## TS Fresh"
   ]
  },
  {
   "cell_type": "code",
   "execution_count": 61,
   "id": "recreational-directive",
   "metadata": {},
   "outputs": [],
   "source": [
    "from tsfresh.examples.har_dataset import download_har_dataset, load_har_dataset, load_har_classes\n",
    "from tsfresh import extract_features, extract_relevant_features, select_features\n",
    "from tsfresh.utilities.dataframe_functions import impute\n",
    "from tsfresh.feature_extraction import settings"
   ]
  },
  {
   "cell_type": "code",
   "execution_count": 70,
   "id": "descending-uniform",
   "metadata": {},
   "outputs": [],
   "source": [
    "def get_long_df(data):  # Формат tsfresh библиотеки\n",
    "    long_df = pd.DataFrame(\n",
    "        {\n",
    "            0: data.values.reshape(-1),\n",
    "            1: np.arange(data.shape[0]).repeat(data.shape[1])\n",
    "        }\n",
    "    )\n",
    "    return long_df\n",
    "\n",
    "def extract_tsfeatures(data, settings):\n",
    "    long_df = get_long_df(data)\n",
    "    signal_features_df = extract_features(\n",
    "        long_df, column_id=1, \n",
    "        impute_function=impute, \n",
    "        default_fc_parameters=settings,\n",
    "        n_jobs=6,\n",
    "        disable_progressbar=True,\n",
    "        show_warnings=False\n",
    "    )\n",
    "    return signal_features_df"
   ]
  },
  {
   "cell_type": "code",
   "execution_count": 71,
   "id": "cognitive-discussion",
   "metadata": {},
   "outputs": [
    {
     "data": {
      "text/plain": [
       "{'linear_trend_timewise': [{'attr': 'pvalue'},\n",
       "  {'attr': 'rvalue'},\n",
       "  {'attr': 'intercept'},\n",
       "  {'attr': 'slope'},\n",
       "  {'attr': 'stderr'}],\n",
       " 'sum_values': None,\n",
       " 'median': None,\n",
       " 'mean': None,\n",
       " 'length': None,\n",
       " 'standard_deviation': None,\n",
       " 'variance': None,\n",
       " 'root_mean_square': None,\n",
       " 'maximum': None,\n",
       " 'minimum': None,\n",
       " 'skewness': None,\n",
       " 'kurtosis': None,\n",
       " 'percentage_of_reoccurring_datapoints_to_all_datapoints': None}"
      ]
     },
     "execution_count": 71,
     "metadata": {},
     "output_type": "execute_result"
    }
   ],
   "source": [
    "settings_efficient = settings.TimeBasedFCParameters()\n",
    "settings_efficient.update(settings.MinimalFCParameters())\n",
    "settings_efficient.update(settings.IndexBasedFCParameters())\n",
    "settings_efficient"
   ]
  },
  {
   "cell_type": "code",
   "execution_count": 72,
   "id": "ultimate-lawyer",
   "metadata": {},
   "outputs": [],
   "source": [
    "X_train_tsfresh = extract_tsfeatures(X_train, settings_efficient)\n",
    "X_test_tsfresh = extract_tsfeatures(X_test, settings_efficient)"
   ]
  },
  {
   "cell_type": "code",
   "execution_count": 172,
   "id": "nominated-photographer",
   "metadata": {},
   "outputs": [],
   "source": [
    "clf = RandomForestClassifier(n_estimators=100)\n",
    "clf.fit(X_train_tsfresh, y_train)\n",
    "threshold = choose_threshold(y_train, clf.predict_proba(X_train_tsfresh)[:, 1], f1_score)"
   ]
  },
  {
   "cell_type": "code",
   "execution_count": 173,
   "id": "duplicate-california",
   "metadata": {},
   "outputs": [
    {
     "name": "stdout",
     "output_type": "stream",
     "text": [
      "0.9377049180327868\n"
     ]
    }
   ],
   "source": [
    "y_pred = clf.predict_proba(X_test_tsfresh)[:, 1] > threshold\n",
    "score = f1_score(y_test, y_pred)\n",
    "roc_auc_dict['tsfresh_random_forest'] = score\n",
    "print(score)"
   ]
  },
  {
   "cell_type": "code",
   "execution_count": 128,
   "id": "hearing-balloon",
   "metadata": {},
   "outputs": [],
   "source": [
    "feature_count_dict['tsfresh_random_forest'] = X_train_tsfresh.shape[1]"
   ]
  },
  {
   "cell_type": "markdown",
   "id": "center-relay",
   "metadata": {},
   "source": [
    "## TSFEL"
   ]
  },
  {
   "cell_type": "code",
   "execution_count": 78,
   "id": "iraqi-warrior",
   "metadata": {},
   "outputs": [],
   "source": [
    "import tsfel"
   ]
  },
  {
   "cell_type": "code",
   "execution_count": 79,
   "id": "incorporate-occasion",
   "metadata": {},
   "outputs": [],
   "source": [
    "cfg_file = tsfel.get_features_by_domain('temporal')"
   ]
  },
  {
   "cell_type": "code",
   "execution_count": 96,
   "id": "human-buffalo",
   "metadata": {},
   "outputs": [
    {
     "name": "stdout",
     "output_type": "stream",
     "text": [
      "*** Feature extraction started ***\n"
     ]
    },
    {
     "data": {
      "text/html": [
       "\n",
       "              <p>\n",
       "                  Progress: 100% Complete\n",
       "              <p/>            \n",
       "              <progress\n",
       "                  value='9200'\n",
       "                  max='9200',\n",
       "                  style='width: 25%',\n",
       "              >\n",
       "                  9200\n",
       "              </progress>\n",
       "\n",
       "    "
      ],
      "text/plain": [
       "<IPython.core.display.HTML object>"
      ]
     },
     "metadata": {},
     "output_type": "display_data"
    },
    {
     "name": "stderr",
     "output_type": "stream",
     "text": [
      "IOPub message rate exceeded.\n",
      "The notebook server will temporarily stop sending output\n",
      "to the client in order to avoid crashing it.\n",
      "To change this limit, set the config variable\n",
      "`--NotebookApp.iopub_msg_rate_limit`.\n",
      "\n",
      "Current values:\n",
      "NotebookApp.iopub_msg_rate_limit=1000.0 (msgs/sec)\n",
      "NotebookApp.rate_limit_window=3.0 (secs)\n",
      "\n",
      "IOPub message rate exceeded.\n",
      "The notebook server will temporarily stop sending output\n",
      "to the client in order to avoid crashing it.\n",
      "To change this limit, set the config variable\n",
      "`--NotebookApp.iopub_msg_rate_limit`.\n",
      "\n",
      "Current values:\n",
      "NotebookApp.iopub_msg_rate_limit=1000.0 (msgs/sec)\n",
      "NotebookApp.rate_limit_window=3.0 (secs)\n",
      "\n"
     ]
    },
    {
     "name": "stdout",
     "output_type": "stream",
     "text": [
      "\n",
      "*** Feature extraction finished ***\n",
      "*** Feature extraction started ***\n"
     ]
    },
    {
     "data": {
      "text/html": [
       "\n",
       "              <p>\n",
       "                  Progress: 100% Complete\n",
       "              <p/>            \n",
       "              <progress\n",
       "                  value='2300'\n",
       "                  max='2300',\n",
       "                  style='width: 25%',\n",
       "              >\n",
       "                  2300\n",
       "              </progress>\n",
       "\n",
       "    "
      ],
      "text/plain": [
       "<IPython.core.display.HTML object>"
      ]
     },
     "metadata": {},
     "output_type": "display_data"
    },
    {
     "name": "stdout",
     "output_type": "stream",
     "text": [
      "\n",
      "*** Feature extraction finished ***\n"
     ]
    }
   ],
   "source": [
    "X_train_tsfel = tsfel.time_series_features_extractor(cfg_file, np.expand_dims(X_train.values, -1), fs=N)\n",
    "X_test_tsfel = tsfel.time_series_features_extractor(cfg_file, np.expand_dims(X_test.values, -1), fs=N)"
   ]
  },
  {
   "cell_type": "code",
   "execution_count": 176,
   "id": "promotional-toilet",
   "metadata": {},
   "outputs": [],
   "source": [
    "clf = RandomForestClassifier(n_estimators=100)\n",
    "clf.fit(X_train_tsfel, y_train)\n",
    "threshold = choose_threshold(y_train, clf.predict_proba(X_train_tsfel)[:, 1], f1_score)"
   ]
  },
  {
   "cell_type": "code",
   "execution_count": 177,
   "id": "following-convention",
   "metadata": {},
   "outputs": [
    {
     "name": "stdout",
     "output_type": "stream",
     "text": [
      "0.9606986899563318\n"
     ]
    }
   ],
   "source": [
    "y_pred = clf.predict_proba(X_test_tsfel)[:, 1] > threshold\n",
    "score = f1_score(y_test, y_pred)\n",
    "roc_auc_dict['tsfel_random_forest'] = score\n",
    "print(score)"
   ]
  },
  {
   "cell_type": "code",
   "execution_count": 129,
   "id": "proprietary-shakespeare",
   "metadata": {},
   "outputs": [],
   "source": [
    "feature_count_dict['tsfel_random_forest'] = X_train_tsfel.shape[1]"
   ]
  },
  {
   "cell_type": "markdown",
   "id": "found-found",
   "metadata": {},
   "source": [
    "## All"
   ]
  },
  {
   "cell_type": "code",
   "execution_count": 160,
   "id": "geographic-punch",
   "metadata": {},
   "outputs": [],
   "source": [
    "X_train_all = np.concatenate([X_train, X_train_fft, X_train_wavelet, X_train_tsfresh, X_train_tsfel], axis=1)\n",
    "X_test_all = np.concatenate([X_test, X_test_fft, X_test_wavelet, X_test_tsfresh, X_test_tsfel], axis=1)\n",
    "feature_count_dict['all_random_forest'] = X_train_all.shape[1]"
   ]
  },
  {
   "cell_type": "code",
   "execution_count": 161,
   "id": "final-examination",
   "metadata": {},
   "outputs": [],
   "source": [
    "clf = RandomForestClassifier(n_estimators=100)\n",
    "clf.fit(X_train_all, y_train)\n",
    "threshold = choose_threshold(y_train, clf.predict_proba(X_train_all)[:, 1], f1_score)"
   ]
  },
  {
   "cell_type": "code",
   "execution_count": 162,
   "id": "subjective-interim",
   "metadata": {},
   "outputs": [
    {
     "name": "stdout",
     "output_type": "stream",
     "text": [
      "0.9587852494577008\n"
     ]
    }
   ],
   "source": [
    "y_pred = clf.predict_proba(X_test_all)[:, 1] > threshold\n",
    "score = f1_score(y_test, y_pred)\n",
    "roc_auc_dict['all_random_forest'] = score\n",
    "print(score)"
   ]
  },
  {
   "cell_type": "markdown",
   "id": "entitled-homeless",
   "metadata": {},
   "source": [
    "# Сравнение результатов"
   ]
  },
  {
   "cell_type": "code",
   "execution_count": 186,
   "id": "offensive-delight",
   "metadata": {},
   "outputs": [
    {
     "data": {
      "text/html": [
       "<div>\n",
       "<style scoped>\n",
       "    .dataframe tbody tr th:only-of-type {\n",
       "        vertical-align: middle;\n",
       "    }\n",
       "\n",
       "    .dataframe tbody tr th {\n",
       "        vertical-align: top;\n",
       "    }\n",
       "\n",
       "    .dataframe thead th {\n",
       "        text-align: right;\n",
       "    }\n",
       "</style>\n",
       "<table border=\"1\" class=\"dataframe\">\n",
       "  <thead>\n",
       "    <tr style=\"text-align: right;\">\n",
       "      <th></th>\n",
       "      <th>f1_score</th>\n",
       "      <th>feature count</th>\n",
       "    </tr>\n",
       "  </thead>\n",
       "  <tbody>\n",
       "    <tr>\n",
       "      <th>wavelet_random_forest</th>\n",
       "      <td>0.961039</td>\n",
       "      <td>178</td>\n",
       "    </tr>\n",
       "    <tr>\n",
       "      <th>tsfel_random_forest</th>\n",
       "      <td>0.960699</td>\n",
       "      <td>18</td>\n",
       "    </tr>\n",
       "    <tr>\n",
       "      <th>all_random_forest</th>\n",
       "      <td>0.958785</td>\n",
       "      <td>310</td>\n",
       "    </tr>\n",
       "    <tr>\n",
       "      <th>fft_random_forest</th>\n",
       "      <td>0.950604</td>\n",
       "      <td>30</td>\n",
       "    </tr>\n",
       "    <tr>\n",
       "      <th>base_random_forest</th>\n",
       "      <td>0.937829</td>\n",
       "      <td>178</td>\n",
       "    </tr>\n",
       "    <tr>\n",
       "      <th>tsfresh_random_forest</th>\n",
       "      <td>0.937705</td>\n",
       "      <td>12</td>\n",
       "    </tr>\n",
       "  </tbody>\n",
       "</table>\n",
       "</div>"
      ],
      "text/plain": [
       "                       f1_score  feature count\n",
       "wavelet_random_forest  0.961039            178\n",
       "tsfel_random_forest    0.960699             18\n",
       "all_random_forest      0.958785            310\n",
       "fft_random_forest      0.950604             30\n",
       "base_random_forest     0.937829            178\n",
       "tsfresh_random_forest  0.937705             12"
      ]
     },
     "execution_count": 186,
     "metadata": {},
     "output_type": "execute_result"
    }
   ],
   "source": [
    "pd.DataFrame({'f1_score': roc_auc_dict, 'feature count':feature_count_dict}).sort_values('f1_score', ascending=False)"
   ]
  },
  {
   "cell_type": "markdown",
   "id": "operating-latvia",
   "metadata": {},
   "source": [
    " Лучшие результаты получились при использовании wavelet признаков, но при этом f1-мера у модели с tsfel признаками не сильно хуже, однако количество признаков почти в 10 раз меньше"
   ]
  },
  {
   "cell_type": "code",
   "execution_count": null,
   "id": "persistent-booking",
   "metadata": {},
   "outputs": [],
   "source": []
  }
 ],
 "metadata": {
  "kernelspec": {
   "display_name": "Python 3",
   "language": "python",
   "name": "python3"
  },
  "language_info": {
   "codemirror_mode": {
    "name": "ipython",
    "version": 3
   },
   "file_extension": ".py",
   "mimetype": "text/x-python",
   "name": "python",
   "nbconvert_exporter": "python",
   "pygments_lexer": "ipython3",
   "version": "3.8.5"
  },
  "toc": {
   "base_numbering": 1,
   "nav_menu": {},
   "number_sections": true,
   "sideBar": true,
   "skip_h1_title": false,
   "title_cell": "Table of Contents",
   "title_sidebar": "Contents",
   "toc_cell": false,
   "toc_position": {},
   "toc_section_display": true,
   "toc_window_display": false
  }
 },
 "nbformat": 4,
 "nbformat_minor": 5
}
